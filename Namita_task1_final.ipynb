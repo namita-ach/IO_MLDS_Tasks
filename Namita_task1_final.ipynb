{
  "nbformat": 4,
  "nbformat_minor": 0,
  "metadata": {
    "colab": {
      "provenance": [],
      "collapsed_sections": [],
      "authorship_tag": "ABX9TyPK+hi55zDSLzS4J48HwY3Q",
      "include_colab_link": true
    },
    "kernelspec": {
      "name": "python3",
      "display_name": "Python 3"
    },
    "language_info": {
      "name": "python"
    }
  },
  "cells": [
    {
      "cell_type": "markdown",
      "metadata": {
        "id": "view-in-github",
        "colab_type": "text"
      },
      "source": [
        "<a href=\"https://colab.research.google.com/github/namitasaurus/IO_MLDS_Tasks/blob/main/Namita_task1_final.ipynb\" target=\"_parent\"><img src=\"https://colab.research.google.com/assets/colab-badge.svg\" alt=\"Open In Colab\"/></a>"
      ]
    },
    {
      "cell_type": "markdown",
      "source": [
        "Q1: Please use the Pandas library to solve the following sub-questions: "
      ],
      "metadata": {
        "id": "qPNd9Z7iPwcd"
      }
    },
    {
      "cell_type": "code",
      "execution_count": 18,
      "metadata": {
        "colab": {
          "base_uri": "https://localhost:8080/"
        },
        "id": "RC5ZieWSUpJ4",
        "outputId": "9b3623cc-adf5-4d40-9f8f-945dff93b2a4"
      },
      "outputs": [
        {
          "output_type": "stream",
          "name": "stdout",
          "text": [
            "Looking in indexes: https://pypi.org/simple, https://us-python.pkg.dev/colab-wheels/public/simple/\n",
            "Requirement already satisfied: pandas in /usr/local/lib/python3.7/dist-packages (1.3.5)\n",
            "Requirement already satisfied: pytz>=2017.3 in /usr/local/lib/python3.7/dist-packages (from pandas) (2022.5)\n",
            "Requirement already satisfied: python-dateutil>=2.7.3 in /usr/local/lib/python3.7/dist-packages (from pandas) (2.8.2)\n",
            "Requirement already satisfied: numpy>=1.17.3 in /usr/local/lib/python3.7/dist-packages (from pandas) (1.21.6)\n",
            "Requirement already satisfied: six>=1.5 in /usr/local/lib/python3.7/dist-packages (from python-dateutil>=2.7.3->pandas) (1.15.0)\n"
          ]
        }
      ],
      "source": [
        "pip install pandas"
      ]
    },
    {
      "cell_type": "code",
      "source": [
        "import pandas as pd"
      ],
      "metadata": {
        "id": "dZvW5UzvXei-"
      },
      "execution_count": 19,
      "outputs": []
    },
    {
      "cell_type": "code",
      "source": [
        "#reading a csv file\n",
        "data = pd.read_csv('tested.csv')"
      ],
      "metadata": {
        "id": "VxP0BFbeXu65"
      },
      "execution_count": 20,
      "outputs": []
    },
    {
      "cell_type": "code",
      "source": [
        "#making dataframe first\n",
        "df = pd.DataFrame(data, index=None)\n",
        "print(df)"
      ],
      "metadata": {
        "colab": {
          "base_uri": "https://localhost:8080/"
        },
        "id": "yJIDmInDbO4v",
        "outputId": "64f158f5-0601-4cdc-dec9-ec398168ba62"
      },
      "execution_count": 21,
      "outputs": [
        {
          "output_type": "stream",
          "name": "stdout",
          "text": [
            "     PassengerId  Survived  Pclass  \\\n",
            "0            892         0       3   \n",
            "1            893         1       3   \n",
            "2            894         0       2   \n",
            "3            895         0       3   \n",
            "4            896         1       3   \n",
            "..           ...       ...     ...   \n",
            "413         1305         0       3   \n",
            "414         1306         1       1   \n",
            "415         1307         0       3   \n",
            "416         1308         0       3   \n",
            "417         1309         0       3   \n",
            "\n",
            "                                             Name     Sex   Age  SibSp  Parch  \\\n",
            "0                                Kelly, Mr. James    male  34.5      0      0   \n",
            "1                Wilkes, Mrs. James (Ellen Needs)  female  47.0      1      0   \n",
            "2                       Myles, Mr. Thomas Francis    male  62.0      0      0   \n",
            "3                                Wirz, Mr. Albert    male  27.0      0      0   \n",
            "4    Hirvonen, Mrs. Alexander (Helga E Lindqvist)  female  22.0      1      1   \n",
            "..                                            ...     ...   ...    ...    ...   \n",
            "413                            Spector, Mr. Woolf    male   NaN      0      0   \n",
            "414                  Oliva y Ocana, Dona. Fermina  female  39.0      0      0   \n",
            "415                  Saether, Mr. Simon Sivertsen    male  38.5      0      0   \n",
            "416                           Ware, Mr. Frederick    male   NaN      0      0   \n",
            "417                      Peter, Master. Michael J    male   NaN      1      1   \n",
            "\n",
            "                 Ticket      Fare Cabin Embarked  \n",
            "0                330911    7.8292   NaN        Q  \n",
            "1                363272    7.0000   NaN        S  \n",
            "2                240276    9.6875   NaN        Q  \n",
            "3                315154    8.6625   NaN        S  \n",
            "4               3101298   12.2875   NaN        S  \n",
            "..                  ...       ...   ...      ...  \n",
            "413           A.5. 3236    8.0500   NaN        S  \n",
            "414            PC 17758  108.9000  C105        C  \n",
            "415  SOTON/O.Q. 3101262    7.2500   NaN        S  \n",
            "416              359309    8.0500   NaN        S  \n",
            "417                2668   22.3583   NaN        C  \n",
            "\n",
            "[418 rows x 12 columns]\n"
          ]
        }
      ]
    },
    {
      "cell_type": "code",
      "source": [
        "#counting number of rows and columns\n",
        "rows = len(df.axes[0])\n",
        "columns = len(df.axes[1])\n",
        "print(\"number of rows is \", rows)\n",
        "print(\"number of columns is \", columns)"
      ],
      "metadata": {
        "colab": {
          "base_uri": "https://localhost:8080/"
        },
        "id": "-msrP_iib4Dz",
        "outputId": "67722451-4f54-44d4-f2eb-93bfa5ca39fe"
      },
      "execution_count": 22,
      "outputs": [
        {
          "output_type": "stream",
          "name": "stdout",
          "text": [
            "number of rows is  418\n",
            "number of columns is  12\n"
          ]
        }
      ]
    },
    {
      "cell_type": "code",
      "source": [
        "#printing first ten and last ten values\n",
        "df = pd.DataFrame(data, index=None)\n",
        "#Last ten:\n",
        "df1 = df.tail(10)\n",
        "print(df1, \"\\n\", \"\\n\")\n",
        "#first ten:\n",
        "df2 = df.head(10)\n",
        "print(df2, \"\\n\", \"\\n\")\n",
        "\n"
      ],
      "metadata": {
        "id": "RTeX-uShcck7",
        "colab": {
          "base_uri": "https://localhost:8080/"
        },
        "outputId": "bc5bc3e3-3a4c-477d-b7ad-d49ce2b8d721"
      },
      "execution_count": 23,
      "outputs": [
        {
          "output_type": "stream",
          "name": "stdout",
          "text": [
            "     PassengerId  Survived  Pclass  \\\n",
            "408         1300         1       3   \n",
            "409         1301         1       3   \n",
            "410         1302         1       3   \n",
            "411         1303         1       1   \n",
            "412         1304         1       3   \n",
            "413         1305         0       3   \n",
            "414         1306         1       1   \n",
            "415         1307         0       3   \n",
            "416         1308         0       3   \n",
            "417         1309         0       3   \n",
            "\n",
            "                                                Name     Sex   Age  SibSp  \\\n",
            "408                  Riordan, Miss. Johanna Hannah\"\"  female   NaN      0   \n",
            "409                        Peacock, Miss. Treasteall  female   3.0      1   \n",
            "410                           Naughton, Miss. Hannah  female   NaN      0   \n",
            "411  Minahan, Mrs. William Edward (Lillian E Thorpe)  female  37.0      1   \n",
            "412                   Henriksson, Miss. Jenny Lovisa  female  28.0      0   \n",
            "413                               Spector, Mr. Woolf    male   NaN      0   \n",
            "414                     Oliva y Ocana, Dona. Fermina  female  39.0      0   \n",
            "415                     Saether, Mr. Simon Sivertsen    male  38.5      0   \n",
            "416                              Ware, Mr. Frederick    male   NaN      0   \n",
            "417                         Peter, Master. Michael J    male   NaN      1   \n",
            "\n",
            "     Parch              Ticket      Fare Cabin Embarked  \n",
            "408      0              334915    7.7208   NaN        Q  \n",
            "409      1  SOTON/O.Q. 3101315   13.7750   NaN        S  \n",
            "410      0              365237    7.7500   NaN        Q  \n",
            "411      0               19928   90.0000   C78        Q  \n",
            "412      0              347086    7.7750   NaN        S  \n",
            "413      0           A.5. 3236    8.0500   NaN        S  \n",
            "414      0            PC 17758  108.9000  C105        C  \n",
            "415      0  SOTON/O.Q. 3101262    7.2500   NaN        S  \n",
            "416      0              359309    8.0500   NaN        S  \n",
            "417      1                2668   22.3583   NaN        C   \n",
            " \n",
            "\n",
            "   PassengerId  Survived  Pclass  \\\n",
            "0          892         0       3   \n",
            "1          893         1       3   \n",
            "2          894         0       2   \n",
            "3          895         0       3   \n",
            "4          896         1       3   \n",
            "5          897         0       3   \n",
            "6          898         1       3   \n",
            "7          899         0       2   \n",
            "8          900         1       3   \n",
            "9          901         0       3   \n",
            "\n",
            "                                           Name     Sex   Age  SibSp  Parch  \\\n",
            "0                              Kelly, Mr. James    male  34.5      0      0   \n",
            "1              Wilkes, Mrs. James (Ellen Needs)  female  47.0      1      0   \n",
            "2                     Myles, Mr. Thomas Francis    male  62.0      0      0   \n",
            "3                              Wirz, Mr. Albert    male  27.0      0      0   \n",
            "4  Hirvonen, Mrs. Alexander (Helga E Lindqvist)  female  22.0      1      1   \n",
            "5                    Svensson, Mr. Johan Cervin    male  14.0      0      0   \n",
            "6                          Connolly, Miss. Kate  female  30.0      0      0   \n",
            "7                  Caldwell, Mr. Albert Francis    male  26.0      1      1   \n",
            "8     Abrahim, Mrs. Joseph (Sophie Halaut Easu)  female  18.0      0      0   \n",
            "9                       Davies, Mr. John Samuel    male  21.0      2      0   \n",
            "\n",
            "      Ticket     Fare Cabin Embarked  \n",
            "0     330911   7.8292   NaN        Q  \n",
            "1     363272   7.0000   NaN        S  \n",
            "2     240276   9.6875   NaN        Q  \n",
            "3     315154   8.6625   NaN        S  \n",
            "4    3101298  12.2875   NaN        S  \n",
            "5       7538   9.2250   NaN        S  \n",
            "6     330972   7.6292   NaN        Q  \n",
            "7     248738  29.0000   NaN        S  \n",
            "8       2657   7.2292   NaN        C  \n",
            "9  A/4 48871  24.1500   NaN        S   \n",
            " \n",
            "\n"
          ]
        }
      ]
    },
    {
      "cell_type": "code",
      "source": [
        "#finding mean\n",
        "df = data.mean()\n",
        "print(df)"
      ],
      "metadata": {
        "colab": {
          "base_uri": "https://localhost:8080/"
        },
        "id": "2pSJ3KciLiH_",
        "outputId": "1c0effd6-dddc-4031-8e00-e3f9a7df5872"
      },
      "execution_count": 24,
      "outputs": [
        {
          "output_type": "stream",
          "name": "stdout",
          "text": [
            "PassengerId    1100.500000\n",
            "Survived          0.363636\n",
            "Pclass            2.265550\n",
            "Age              30.272590\n",
            "SibSp             0.447368\n",
            "Parch             0.392344\n",
            "Fare             35.627188\n",
            "dtype: float64\n"
          ]
        },
        {
          "output_type": "stream",
          "name": "stderr",
          "text": [
            "/usr/local/lib/python3.7/dist-packages/ipykernel_launcher.py:2: FutureWarning: Dropping of nuisance columns in DataFrame reductions (with 'numeric_only=None') is deprecated; in a future version this will raise TypeError.  Select only valid columns before calling the reduction.\n",
            "  \n"
          ]
        }
      ]
    },
    {
      "cell_type": "code",
      "source": [
        "#finding median of every column\n",
        "df = data.median()\n",
        "print(df)"
      ],
      "metadata": {
        "colab": {
          "base_uri": "https://localhost:8080/"
        },
        "id": "Lf3t1KXPitbn",
        "outputId": "2bda7aa1-cd55-4e03-b93a-c97143bc9686"
      },
      "execution_count": 25,
      "outputs": [
        {
          "output_type": "stream",
          "name": "stdout",
          "text": [
            "PassengerId    1100.5000\n",
            "Survived          0.0000\n",
            "Pclass            3.0000\n",
            "Age              27.0000\n",
            "SibSp             0.0000\n",
            "Parch             0.0000\n",
            "Fare             14.4542\n",
            "dtype: float64\n"
          ]
        },
        {
          "output_type": "stream",
          "name": "stderr",
          "text": [
            "/usr/local/lib/python3.7/dist-packages/ipykernel_launcher.py:2: FutureWarning: Dropping of nuisance columns in DataFrame reductions (with 'numeric_only=None') is deprecated; in a future version this will raise TypeError.  Select only valid columns before calling the reduction.\n",
            "  \n"
          ]
        }
      ]
    },
    {
      "cell_type": "code",
      "source": [
        "#Sorting values of a column in descending order\n",
        "df = data.sort_values(by=['Age'], ascending = False)\n",
        "print(df)"
      ],
      "metadata": {
        "colab": {
          "base_uri": "https://localhost:8080/"
        },
        "id": "UrchfwVjjDSg",
        "outputId": "f1f4c1f0-06d3-4fc1-df05-4084abdc6ab3"
      },
      "execution_count": 26,
      "outputs": [
        {
          "output_type": "stream",
          "name": "stdout",
          "text": [
            "     PassengerId  Survived  Pclass  \\\n",
            "96           988         1       1   \n",
            "81           973         0       1   \n",
            "236         1128         0       1   \n",
            "305         1197         1       1   \n",
            "179         1071         1       1   \n",
            "..           ...       ...     ...   \n",
            "408         1300         1       3   \n",
            "410         1302         1       3   \n",
            "413         1305         0       3   \n",
            "416         1308         0       3   \n",
            "417         1309         0       3   \n",
            "\n",
            "                                                  Name     Sex   Age  SibSp  \\\n",
            "96   Cavendish, Mrs. Tyrell William (Julia Florence...  female  76.0      1   \n",
            "81                                  Straus, Mr. Isidor    male  67.0      1   \n",
            "236                           Warren, Mr. Frank Manley    male  64.0      1   \n",
            "305  Crosby, Mrs. Edward Gifford (Catherine Elizabe...  female  64.0      1   \n",
            "179  Compton, Mrs. Alexander Taylor (Mary Eliza Ing...  female  64.0      0   \n",
            "..                                                 ...     ...   ...    ...   \n",
            "408                    Riordan, Miss. Johanna Hannah\"\"  female   NaN      0   \n",
            "410                             Naughton, Miss. Hannah  female   NaN      0   \n",
            "413                                 Spector, Mr. Woolf    male   NaN      0   \n",
            "416                                Ware, Mr. Frederick    male   NaN      0   \n",
            "417                           Peter, Master. Michael J    male   NaN      1   \n",
            "\n",
            "     Parch     Ticket      Fare    Cabin Embarked  \n",
            "96       0      19877   78.8500      C46        S  \n",
            "81       0   PC 17483  221.7792  C55 C57        S  \n",
            "236      0     110813   75.2500      D37        C  \n",
            "305      1     112901   26.5500      B26        S  \n",
            "179      2   PC 17756   83.1583      E45        C  \n",
            "..     ...        ...       ...      ...      ...  \n",
            "408      0     334915    7.7208      NaN        Q  \n",
            "410      0     365237    7.7500      NaN        Q  \n",
            "413      0  A.5. 3236    8.0500      NaN        S  \n",
            "416      0     359309    8.0500      NaN        S  \n",
            "417      1       2668   22.3583      NaN        C  \n",
            "\n",
            "[418 rows x 12 columns]\n"
          ]
        }
      ]
    },
    {
      "cell_type": "code",
      "source": [
        "#check for null values and drop a column with null values\n",
        "df = df.dropna(axis=1)\n",
        "print(df)"
      ],
      "metadata": {
        "id": "nSmUADyPkFsi",
        "colab": {
          "base_uri": "https://localhost:8080/"
        },
        "outputId": "158b106d-338b-4b72-e939-d9417eb3a6ff"
      },
      "execution_count": 27,
      "outputs": [
        {
          "output_type": "stream",
          "name": "stdout",
          "text": [
            "     PassengerId  Survived  Pclass  \\\n",
            "96           988         1       1   \n",
            "81           973         0       1   \n",
            "236         1128         0       1   \n",
            "305         1197         1       1   \n",
            "179         1071         1       1   \n",
            "..           ...       ...     ...   \n",
            "408         1300         1       3   \n",
            "410         1302         1       3   \n",
            "413         1305         0       3   \n",
            "416         1308         0       3   \n",
            "417         1309         0       3   \n",
            "\n",
            "                                                  Name     Sex  SibSp  Parch  \\\n",
            "96   Cavendish, Mrs. Tyrell William (Julia Florence...  female      1      0   \n",
            "81                                  Straus, Mr. Isidor    male      1      0   \n",
            "236                           Warren, Mr. Frank Manley    male      1      0   \n",
            "305  Crosby, Mrs. Edward Gifford (Catherine Elizabe...  female      1      1   \n",
            "179  Compton, Mrs. Alexander Taylor (Mary Eliza Ing...  female      0      2   \n",
            "..                                                 ...     ...    ...    ...   \n",
            "408                    Riordan, Miss. Johanna Hannah\"\"  female      0      0   \n",
            "410                             Naughton, Miss. Hannah  female      0      0   \n",
            "413                                 Spector, Mr. Woolf    male      0      0   \n",
            "416                                Ware, Mr. Frederick    male      0      0   \n",
            "417                           Peter, Master. Michael J    male      1      1   \n",
            "\n",
            "        Ticket Embarked  \n",
            "96       19877        S  \n",
            "81    PC 17483        S  \n",
            "236     110813        C  \n",
            "305     112901        S  \n",
            "179   PC 17756        C  \n",
            "..         ...      ...  \n",
            "408     334915        Q  \n",
            "410     365237        Q  \n",
            "413  A.5. 3236        S  \n",
            "416     359309        S  \n",
            "417       2668        C  \n",
            "\n",
            "[418 rows x 9 columns]\n"
          ]
        }
      ]
    },
    {
      "cell_type": "markdown",
      "source": [
        "Q2. Please use the NumPy library to solve the following questions.The array for your reference is given below:"
      ],
      "metadata": {
        "id": "XUtHn8o_QiC3"
      }
    },
    {
      "cell_type": "code",
      "source": [
        "pip install numpy"
      ],
      "metadata": {
        "colab": {
          "base_uri": "https://localhost:8080/"
        },
        "id": "C1TT8gWkQ2mq",
        "outputId": "f82ca0fc-dc61-4d6a-8b71-23d33a53ca05"
      },
      "execution_count": 28,
      "outputs": [
        {
          "output_type": "stream",
          "name": "stdout",
          "text": [
            "Looking in indexes: https://pypi.org/simple, https://us-python.pkg.dev/colab-wheels/public/simple/\n",
            "Requirement already satisfied: numpy in /usr/local/lib/python3.7/dist-packages (1.21.6)\n"
          ]
        }
      ]
    },
    {
      "cell_type": "code",
      "source": [
        "import numpy as np"
      ],
      "metadata": {
        "id": "wnIg1cgERBFx"
      },
      "execution_count": 29,
      "outputs": []
    },
    {
      "cell_type": "code",
      "source": [
        "Arr1 = [1,2,3,2,3,4,3,4,5,6]\n",
        "Arr2 = [7,2,10,2,7,4,9,4,9,8]\n",
        "#creating 1D array\n",
        "arr1 = np.array(Arr1)\n",
        "print(\"1D array 1: \", arr1, \"\\n\")\n",
        "arr2 = np.array(Arr2)\n",
        "print(\"1D array 2:\", arr2, \"\\n\")\n",
        "#reshaping 1D to 2D array\n",
        "arr1 = arr1.reshape(5, 2)\n",
        "arr2 = arr2.reshape(5, 2)\n",
        "print(\"array 1, reshaped: \", arr1, '\\n')\n",
        "print(\"array 2, reshaped: \", arr2, \"\\n\")\n",
        "#Get common items between 2 arrays\n",
        "common = np.intersect1d(arr1,arr2)\n",
        "l = (common)\n",
        "print(\"Common values: \", common)\n",
        "#Remove items from Arr1 that match Arr2\n",
        "\n",
        "for i in range(0, len(arr1)-1):\n",
        "  if arr1[i] in arr2:\n",
        "    arr = np.delete(arr1, i)\n",
        "print(arr)\n",
        "#Check for null values in an array\n",
        "if len(Arr1) <= 10:\n",
        "  print(\"There are null values in array 1\")\n",
        "if len(Arr2) <= 10: \n",
        "  print(\"There are null values in array 2\")\n",
        "\n",
        "\n"
      ],
      "metadata": {
        "colab": {
          "base_uri": "https://localhost:8080/"
        },
        "id": "0iq5fJ8nRi_8",
        "outputId": "126175a3-4d31-4988-e999-86318709b824"
      },
      "execution_count": 31,
      "outputs": [
        {
          "output_type": "stream",
          "name": "stdout",
          "text": [
            "1D array 1:  [1 2 3 2 3 4 3 4 5 6] \n",
            "\n",
            "1D array 2: [ 7  2 10  2  7  4  9  4  9  8] \n",
            "\n",
            "array 1, reshaped:  [[1 2]\n",
            " [3 2]\n",
            " [3 4]\n",
            " [3 4]\n",
            " [5 6]] \n",
            "\n",
            "array 2, reshaped:  [[ 7  2]\n",
            " [10  2]\n",
            " [ 7  4]\n",
            " [ 9  4]\n",
            " [ 9  8]] \n",
            "\n",
            "Common values:  [2 4]\n",
            "[1 2 3 3 4 3 4 5 6]\n",
            "There are null values in array 1\n",
            "There are null values in array 2\n"
          ]
        }
      ]
    }
  ]
}